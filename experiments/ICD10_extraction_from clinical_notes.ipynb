{
 "cells": [
  {
   "cell_type": "code",
   "execution_count": 11,
   "id": "c92f1208",
   "metadata": {},
   "outputs": [],
   "source": [
    "from transformers import pipeline\n",
    "from PIL import Image\n",
    "import requests\n",
    "import torch\n",
    "import numpy as np\n",
    "from IPython.display import Markdown, display\n"
   ]
  },
  {
   "cell_type": "code",
   "execution_count": null,
   "id": "541afc53",
   "metadata": {},
   "outputs": [],
   "source": [
    "# from huggingface_hub import login\n",
    "# login(token=\"<>hugging_face_token</>\")  # Uncomment this line if you need to log in using Hugging Face CLI\n",
    "\n",
    "# LOGGED IN USING HUNNGINGFACE CLI"
   ]
  },
  {
   "cell_type": "code",
   "execution_count": 2,
   "id": "bf010102",
   "metadata": {},
   "outputs": [
    {
     "name": "stderr",
     "output_type": "stream",
     "text": [
      "Fetching 2 files: 100%|██████████| 2/2 [01:10<00:00, 35.26s/it]\n",
      "Loading checkpoint shards: 100%|██████████| 2/2 [00:00<00:00,  9.13it/s]\n",
      "Using a slow image processor as `use_fast` is unset and a slow processor was saved with this model. `use_fast=True` will be the default behavior in v4.52, even if the model was saved with a slow processor. This will result in minor differences in outputs. You'll still be able to use a slow processor with `use_fast=False`.\n",
      "Device set to use mps:0\n"
     ]
    }
   ],
   "source": [
    "pipe = pipeline(\n",
    "    \"image-text-to-text\",\n",
    "    model=\"google/medgemma-4b-it\",\n",
    "    torch_dtype=torch.bfloat16,\n",
    ")"
   ]
  },
  {
   "cell_type": "code",
   "execution_count": 4,
   "id": "ee79b03b",
   "metadata": {},
   "outputs": [],
   "source": [
    "clinical_note = \"\"\"\n",
    "Chief Complaint:\n",
    "The patient presents with abdominal pain localized to the lower right quadrant, nausea, and low-grade fever for the past 24 hours.\n",
    "\n",
    "History & Symptoms:\n",
    "- Pain began near the umbilicus and migrated to the lower right abdomen\n",
    "- Mild nausea, no vomiting\n",
    "- Pain increases with movement or coughing\n",
    "- Temperature: 38.1°C (100.6°F)\n",
    "\n",
    "Physical Exam:\n",
    "- Rebound tenderness in the right lower quadrant\n",
    "- Positive Rovsing’s sign\n",
    "- No palpable masses\n",
    "\n",
    "Diagnosis:\n",
    "- Acute uncomplicated appendicitis\n",
    "\n",
    "Plan:\n",
    "- Schedule for laparoscopic appendectomy\n",
    "- Start IV fluids and antibiotics pre-op\n",
    "\"\"\""
   ]
  },
  {
   "cell_type": "code",
   "execution_count": 5,
   "id": "a6d8b787",
   "metadata": {},
   "outputs": [],
   "source": [
    "system_prompt = f\"\"\"\n",
    "You are an expert clinical coder. From the following medical note, \n",
    "identify the most relevant ICD-10 codes:\n",
    "\n",
    "Medical Note:\n",
    "{clinical_note}\n",
    "\n",
    "Instructions:\n",
    "- Include all codes for all sections of the clinical note \n",
    "(complain, history and symptomps, diagnosis, plan\n",
    "- Include a code only once\n",
    "\n",
    "Output format:\n",
    "- **Code**: <code>, **Description**: <description>\n",
    "\n",
    "Just output the ICD-10 code and description, in the format above mentioned.\n",
    "\"\"\""
   ]
  },
  {
   "cell_type": "code",
   "execution_count": 8,
   "id": "54b8f189",
   "metadata": {},
   "outputs": [],
   "source": [
    "dummy_image = Image.fromarray(np.zeros((224, 224, 3), dtype=np.uint8))\n"
   ]
  },
  {
   "cell_type": "code",
   "execution_count": 12,
   "id": "4cd12823",
   "metadata": {},
   "outputs": [
    {
     "data": {
      "text/markdown": [
       "**Code**: K36.9, **Description**: Acute appendicitis, unspecified\n",
       "\n",
       "**Code**: R65.9, **Description**: Nausea, unspecified\n",
       "\n",
       "**Code**: R50.9, **Description**: Fever, unspecified\n",
       "\n",
       "**Code**: N39.0, **Description**: Rebound tenderness\n",
       "\n",
       "**Code**: N39.1, **Description**: Rovsing's sign\n",
       "\n",
       "**Code**: Z98.1, **Description**: Laparoscopic appendectomy\n"
      ],
      "text/plain": [
       "<IPython.core.display.Markdown object>"
      ]
     },
     "metadata": {},
     "output_type": "display_data"
    }
   ],
   "source": [
    "messages = [\n",
    "    {\n",
    "        \"role\": \"system\",\n",
    "        \"content\": [{\"type\": \"text\", \"text\": system_prompt}]\n",
    "    },\n",
    "    {\n",
    "        \"role\": \"user\",\n",
    "        \"content\": [\n",
    "            {\"type\": \"text\", \"text\": clinical_note},\n",
    "             {\"type\": \"image\", \"image\": dummy_image}\n",
    "            \n",
    "        ]\n",
    "    }\n",
    "]\n",
    "\n",
    "output = pipe(text=messages, max_new_tokens=512)\n",
    "display(Markdown(output[0][\"generated_text\"][-1][\"content\"]))"
   ]
  },
  {
   "cell_type": "code",
   "execution_count": null,
   "id": "4c4aa9e4",
   "metadata": {},
   "outputs": [],
   "source": []
  }
 ],
 "metadata": {
  "kernelspec": {
   "display_name": "multi-agent-medical-system-SridHdlm-py3.13",
   "language": "python",
   "name": "python3"
  },
  "language_info": {
   "codemirror_mode": {
    "name": "ipython",
    "version": 3
   },
   "file_extension": ".py",
   "mimetype": "text/x-python",
   "name": "python",
   "nbconvert_exporter": "python",
   "pygments_lexer": "ipython3",
   "version": "3.13.5"
  }
 },
 "nbformat": 4,
 "nbformat_minor": 5
}
