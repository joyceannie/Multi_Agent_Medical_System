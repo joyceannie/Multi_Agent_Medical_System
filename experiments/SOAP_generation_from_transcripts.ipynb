{
 "cells": [
  {
   "cell_type": "code",
   "execution_count": 1,
   "id": "9cb313c6",
   "metadata": {},
   "outputs": [
    {
     "name": "stderr",
     "output_type": "stream",
     "text": [
      "/Users/joyce/.pyenv/versions/medgemma-env/lib/python3.11/site-packages/tqdm/auto.py:21: TqdmWarning: IProgress not found. Please update jupyter and ipywidgets. See https://ipywidgets.readthedocs.io/en/stable/user_install.html\n",
      "  from .autonotebook import tqdm as notebook_tqdm\n"
     ]
    }
   ],
   "source": [
    "from transformers import pipeline\n",
    "from PIL import Image\n",
    "import requests\n",
    "import torch\n",
    "import numpy as np\n",
    "from IPython.display import Markdown, display"
   ]
  },
  {
   "cell_type": "code",
   "execution_count": null,
   "id": "61b3ec6d",
   "metadata": {},
   "outputs": [],
   "source": [
    "# from huggingface_hub import login\n",
    "# login(token=\"<>hugging_face_token</>\")  # Uncomment this line if you need to log in using Hugging Face CLI\n",
    "\n",
    "# LOGGED IN USING HUNNGINGFACE CLI"
   ]
  },
  {
   "cell_type": "code",
   "execution_count": 2,
   "id": "cc8a874e",
   "metadata": {},
   "outputs": [
    {
     "name": "stderr",
     "output_type": "stream",
     "text": [
      "Loading checkpoint shards: 100%|██████████| 2/2 [00:00<00:00, 10.96it/s]\n",
      "Using a slow image processor as `use_fast` is unset and a slow processor was saved with this model. `use_fast=True` will be the default behavior in v4.52, even if the model was saved with a slow processor. This will result in minor differences in outputs. You'll still be able to use a slow processor with `use_fast=False`.\n",
      "Device set to use mps:0\n"
     ]
    }
   ],
   "source": [
    "pipe = pipeline(\n",
    "    \"image-text-to-text\",\n",
    "    model=\"google/medgemma-4b-it\",\n",
    "    torch_dtype=torch.bfloat16,\n",
    ")"
   ]
  },
  {
   "cell_type": "code",
   "execution_count": 3,
   "id": "65842d79",
   "metadata": {},
   "outputs": [],
   "source": [
    "medical_transcript = \"\"\"\n",
    "Physician: Good morning, Ms. Johnson. What brings you in today?\n",
    "\n",
    "Patient: Morning, doctor. I’ve been having this persistent cough for the last two weeks. It started out dry, but now there’s some phlegm.\n",
    "\n",
    "Physician: I see. Any fever or chills?\n",
    "\n",
    "Patient: Yes, I had a mild fever three days ago, around 100.5°F, but it went away on its own.\n",
    "\n",
    "Physician: Any shortness of breath or chest pain?\n",
    "\n",
    "Patient: Not really chest pain, but my chest feels a bit tight, especially when I’m coughing a lot.\n",
    "\n",
    "Physician: How about your energy levels or appetite?\n",
    "\n",
    "Patient: I’ve been more tired than usual, and I haven’t had much of an appetite.\n",
    "\n",
    "Physician: Any recent travel or contact with anyone who’s been sick?\n",
    "\n",
    "Patient: No travel, but my son had a cold last week.\n",
    "\n",
    "Physician: Okay. Let’s take a listen to your lungs.\n",
    "\n",
    "[Stethoscope exam sounds]\n",
    "\n",
    "Physician: I’m hearing some mild crackles in your lower lungs. No wheezing, which is good. I’ll check your oxygen level—98%, that’s normal.\n",
    "\n",
    "Physician: I’d like to order a chest X-ray to rule out pneumonia, and we’ll also do a CBC and test for respiratory viruses. In the meantime, I’ll prescribe an inhaler to help with the chest tightness, and a cough suppressant so you can rest.\n",
    "\n",
    "Patient: Sounds good. Should I stay home from work?\n",
    "\n",
    "Physician: Yes, for at least a couple of days until the results come in and you’re feeling better. Stay hydrated, and rest as much as you can.\n",
    "\n",
    "Patient: Will do. Thanks, doctor.\n",
    "\n",
    "Physician: You’re welcome. We’ll follow up as soon as we have the test results.\n",
    "\"\"\""
   ]
  },
  {
   "cell_type": "code",
   "execution_count": 4,
   "id": "42f67b13",
   "metadata": {},
   "outputs": [],
   "source": [
    "system_prompt = \"\"\"\n",
    "You are a clinical documentation assistant. Your task is to read medical transcripts \n",
    "(dialogues between clinicians and patients) and convert them into structured clinical notes using the SOAP format.\n",
    "\n",
    "Follow these rules:\n",
    "\n",
    "*S – Subjective*:\n",
    "Include all information reported by the patient: symptoms, duration, history, complaints, and any relevant lifestyle or \n",
    "exposure context. Use the patient’s own words when possible (paraphrased for clarity).\n",
    "\n",
    "*O – Objective*:\n",
    "Include observable findings such as vital signs, physical exam results, lab tests, imaging results, and clinician \n",
    "observations during the encounter.\n",
    "\n",
    "*A – Assessment*:\n",
    "Provide a brief summary of the clinician’s diagnostic impression. Include possible or confirmed diagnoses.\n",
    "\n",
    "*P – Plan*:\n",
    "Outline the next steps recommended by the clinician. This can include prescriptions, tests to be ordered, \n",
    "referrals, follow-up instructions, and lifestyle recommendations.\n",
    "\n",
    "Keep the format clear and professional. Do not include any parts of the transcript that are irrelevant or \n",
    "non-clinical. Do not invent information not found in the transcript. \n",
    "Allways use a bullet point format for each section of the SOAP note.\n",
    "\n",
    "A comprehensive SOAP note has to take into account all subjective and objective information, \n",
    "and accurately assess it to create the patient-specific assessment and plan.\n",
    "\n",
    "Here is the transcript from a medical record file from which you will be asked to extract relevant SOAP information:\n",
    "\n",
    "\n",
    "\n",
    "\"\"\""
   ]
  },
  {
   "cell_type": "code",
   "execution_count": 5,
   "id": "a7f62831",
   "metadata": {},
   "outputs": [],
   "source": [
    "dummy_image = Image.fromarray(np.zeros((224, 224, 3), dtype=np.uint8))\n"
   ]
  },
  {
   "cell_type": "code",
   "execution_count": 6,
   "id": "d63adc96",
   "metadata": {},
   "outputs": [],
   "source": [
    "messages = [\n",
    "    {\n",
    "        \"role\": \"system\",\n",
    "        \"content\": [{\"type\": \"text\", \"text\": system_prompt}]\n",
    "    },\n",
    "    {\n",
    "        \"role\": \"user\",\n",
    "        \"content\": [\n",
    "            {\"type\": \"text\", \"text\": medical_transcript},\n",
    "             {\"type\": \"image\", \"image\": dummy_image}\n",
    "            \n",
    "        ]\n",
    "    }\n",
    "]"
   ]
  },
  {
   "cell_type": "code",
   "execution_count": 7,
   "id": "06c4adb3",
   "metadata": {},
   "outputs": [],
   "source": [
    "output = pipe(text=messages, max_new_tokens=512)\n"
   ]
  },
  {
   "cell_type": "code",
   "execution_count": 8,
   "id": "6976e017",
   "metadata": {},
   "outputs": [
    {
     "data": {
      "text/markdown": [
       "Here's a SOAP note based on the provided transcript:\n",
       "\n",
       "**S (Subjective)**\n",
       "\n",
       "*   Patient reports a persistent cough for two weeks, initially dry, now with some phlegm.\n",
       "*   Patient experienced a mild fever (100.5°F) three days ago, which resolved on its own.\n",
       "*   Patient reports chest tightness, especially with coughing.\n",
       "*   Patient reports decreased energy levels and appetite.\n",
       "*   Patient denies recent travel.\n",
       "*   Patient's son had a cold last week.\n",
       "\n",
       "**O (Objective)**\n",
       "\n",
       "*   Lung exam reveals mild crackles in the lower lungs.\n",
       "*   No wheezing noted.\n",
       "*   Oxygen saturation: 98% (normal).\n",
       "\n",
       "**A (Assessment)**\n",
       "\n",
       "*   Possible bronchitis or other respiratory infection. Pneumonia is being ruled out with a chest X-ray.\n",
       "\n",
       "**P (Plan)**\n",
       "\n",
       "*   Order chest X-ray.\n",
       "*   Order CBC (complete blood count).\n",
       "*   Order respiratory viral panel.\n",
       "*   Prescribe an inhaler for chest tightness.\n",
       "*   Prescribe a cough suppressant.\n",
       "*   Advise patient to stay home from work for at least two days.\n",
       "*   Recommend hydration and rest.\n",
       "*   Follow up with results of tests and further management as needed.\n"
      ],
      "text/plain": [
       "<IPython.core.display.Markdown object>"
      ]
     },
     "metadata": {},
     "output_type": "display_data"
    }
   ],
   "source": [
    "display(Markdown(output[0][\"generated_text\"][-1][\"content\"]))\n"
   ]
  },
  {
   "cell_type": "code",
   "execution_count": 10,
   "id": "28239efb",
   "metadata": {},
   "outputs": [],
   "source": [
    "image_path = \"medical_transcript.png\"\n",
    "image = Image.open(image_path)"
   ]
  },
  {
   "cell_type": "code",
   "execution_count": 11,
   "id": "8503151f",
   "metadata": {},
   "outputs": [],
   "source": [
    "messages = [\n",
    "    {\n",
    "        \"role\": \"system\",\n",
    "        \"content\": [{\"type\": \"text\", \"text\": system_prompt}]\n",
    "    },\n",
    "    {\n",
    "        \"role\": \"user\",\n",
    "        \"content\": [\n",
    "            {\"type\": \"text\", \"text\": \"\"},\n",
    "            {\"type\": \"image\", \"image\": image},\n",
    "        ]\n",
    "    }\n",
    "]"
   ]
  },
  {
   "cell_type": "code",
   "execution_count": 12,
   "id": "aa2b485c",
   "metadata": {},
   "outputs": [],
   "source": [
    "output = pipe(text=messages, max_new_tokens=512)\n"
   ]
  },
  {
   "cell_type": "code",
   "execution_count": 14,
   "id": "3f9e5348",
   "metadata": {},
   "outputs": [
    {
     "data": {
      "text/markdown": [
       "Here's a SOAP note based on the provided transcript:\n",
       "\n",
       "**S – Subjective:**\n",
       "\n",
       "*   Patient reports abdominal pain for the past few days, described as cramping and comes and goes.\n",
       "*   Pain started about four days ago, right after eating takeout food.\n",
       "*   Patient experiences some nausea, but no vomiting or diarrhea.\n",
       "*   Patient reports loose stools twice a day for the past couple of days.\n",
       "*   Patient denies fever or chills.\n",
       "*   Patient denies blood in stool or black, tarry stools.\n",
       "*   Patient reports being unable to eat normally.\n",
       "*   Patient states they have been eating a little less just because they feel full quickly and the pain gets worse after meals.\n",
       "\n",
       "**O – Objective:**\n",
       "\n",
       "*   Physical exam reveals some tenderness in the lower left quadrant.\n",
       "*   Guarding is present but not guarding or rebound.\n",
       "*   Bowel sounds are normal.\n",
       "\n",
       "**A – Assessment:**\n",
       "\n",
       "*   Possible mild case of gastroenteritis, but the clinician wants to rule out infection.\n",
       "\n",
       "**P – Plan:**\n",
       "\n",
       "*   Order a stool test to rule out infection and a basic metabolic panel.\n",
       "*   Patient is instructed to stay hydrated, eat bland foods, and wait for the test results.\n",
       "*   The clinician does not want to prescribe antibiotics unless something bacterial is found.\n",
       "*   Patient is advised to call if the pain worsens or if they develop a fever.\n",
       "*   The clinician will follow up in two weeks.\n"
      ],
      "text/plain": [
       "<IPython.core.display.Markdown object>"
      ]
     },
     "metadata": {},
     "output_type": "display_data"
    }
   ],
   "source": [
    "display(Markdown(output[0][\"generated_text\"][-1][\"content\"]))\n"
   ]
  },
  {
   "cell_type": "code",
   "execution_count": null,
   "id": "9a5579cd",
   "metadata": {},
   "outputs": [],
   "source": []
  }
 ],
 "metadata": {
  "kernelspec": {
   "display_name": "medgemma-env",
   "language": "python",
   "name": "python3"
  },
  "language_info": {
   "codemirror_mode": {
    "name": "ipython",
    "version": 3
   },
   "file_extension": ".py",
   "mimetype": "text/x-python",
   "name": "python",
   "nbconvert_exporter": "python",
   "pygments_lexer": "ipython3",
   "version": "3.11.9"
  }
 },
 "nbformat": 4,
 "nbformat_minor": 5
}
