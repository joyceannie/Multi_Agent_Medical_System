{
 "cells": [
  {
   "cell_type": "code",
   "execution_count": 1,
   "id": "d759dc00",
   "metadata": {},
   "outputs": [
    {
     "name": "stderr",
     "output_type": "stream",
     "text": [
      "/Users/joyce/.pyenv/versions/medgemma-env/lib/python3.11/site-packages/tqdm/auto.py:21: TqdmWarning: IProgress not found. Please update jupyter and ipywidgets. See https://ipywidgets.readthedocs.io/en/stable/user_install.html\n",
      "  from .autonotebook import tqdm as notebook_tqdm\n"
     ]
    }
   ],
   "source": [
    "from transformers import pipeline\n",
    "from PIL import Image\n",
    "import requests\n",
    "import torch\n",
    "import numpy as np\n",
    "from IPython.display import Markdown, display"
   ]
  },
  {
   "cell_type": "code",
   "execution_count": null,
   "id": "cad85707",
   "metadata": {},
   "outputs": [],
   "source": [
    "# from huggingface_hub import login\n",
    "# login(token=\"<>hugging_face_token</>\")  # Uncomment this line if you need to log in using Hugging Face CLI\n",
    "\n",
    "# LOGGED IN USING HUNNGINGFACE CLI"
   ]
  },
  {
   "cell_type": "code",
   "execution_count": 2,
   "id": "d44d437e",
   "metadata": {},
   "outputs": [
    {
     "name": "stderr",
     "output_type": "stream",
     "text": [
      "Loading checkpoint shards: 100%|██████████| 2/2 [00:00<00:00, 10.20it/s]\n",
      "Using a slow image processor as `use_fast` is unset and a slow processor was saved with this model. `use_fast=True` will be the default behavior in v4.52, even if the model was saved with a slow processor. This will result in minor differences in outputs. You'll still be able to use a slow processor with `use_fast=False`.\n",
      "Device set to use mps:0\n"
     ]
    }
   ],
   "source": [
    "pipe = pipeline(\n",
    "    \"image-text-to-text\",\n",
    "    model=\"google/medgemma-4b-it\",\n",
    "    torch_dtype=torch.bfloat16,\n",
    ")"
   ]
  },
  {
   "cell_type": "code",
   "execution_count": 3,
   "id": "669a002b",
   "metadata": {},
   "outputs": [],
   "source": [
    "image_url = \"https://upload.wikimedia.org/wikipedia/commons/c/c8/Chest_Xray_PA_3-8-2010.png\"\n",
    "image = Image.open(requests.get(image_url, headers={\"User-Agent\": \"example\"}, stream=True).raw)"
   ]
  },
  {
   "cell_type": "code",
   "execution_count": 4,
   "id": "dfa51fc8",
   "metadata": {},
   "outputs": [],
   "source": [
    "messages = [\n",
    "    {\n",
    "        \"role\": \"system\",\n",
    "        \"content\": [{\"type\": \"text\", \"text\": \"You are an expert radiologist.\"}]\n",
    "    },\n",
    "    {\n",
    "        \"role\": \"user\",\n",
    "        \"content\": [\n",
    "            {\"type\": \"text\", \"text\": \"Describe this X-ray\"},\n",
    "            {\"type\": \"image\", \"image\": image},\n",
    "        ]\n",
    "    }\n",
    "]\n"
   ]
  },
  {
   "cell_type": "code",
   "execution_count": 7,
   "id": "755c4fad",
   "metadata": {},
   "outputs": [],
   "source": [
    "output = pipe(text=messages, max_new_tokens=512)\n"
   ]
  },
  {
   "cell_type": "code",
   "execution_count": 8,
   "id": "fceeab79",
   "metadata": {},
   "outputs": [
    {
     "data": {
      "text/markdown": [
       "Okay, based on the provided chest X-ray image, here's a description:\n",
       "\n",
       "**Overall Impression:**\n",
       "\n",
       "The image shows a normal chest X-ray. The heart size appears within normal limits, and the lungs are clear bilaterally. There are no obvious signs of acute pathology.\n",
       "\n",
       "**Specific Findings:**\n",
       "\n",
       "*   **Heart:** The heart silhouette is within normal limits in size and shape. The cardiothoracic ratio (the ratio of the heart's width to the chest's width) appears to be within the normal range.\n",
       "*   **Lungs:** The lungs are clear bilaterally. There are no visible consolidations, effusions, or masses. The lung markings are normal.\n",
       "*   **Mediastinum:** The mediastinum (the space between the lungs containing the heart, great vessels, trachea, and other structures) appears normal in width and alignment.\n",
       "*   **Bones:** The ribs, clavicles, and other bony structures are intact. There are no obvious fractures or dislocations.\n",
       "*   **Diaphragm:** The diaphragm is seen as a sharp, well-defined border.\n",
       "*   **Soft Tissues:** The soft tissues of the chest wall are unremarkable.\n",
       "\n",
       "**Possible Considerations:**\n",
       "\n",
       "*   **Age and Sex:** The patient's age and sex are not provided, but this information is important for interpreting the X-ray.\n",
       "*   **Clinical History:** The clinical history of the patient is crucial for interpreting the X-ray. Any symptoms or findings on physical examination should be considered.\n",
       "*   **Comparison to Prior Studies:** If available, comparison to prior chest X-rays can be helpful in identifying any changes over time.\n",
       "\n",
       "**In summary, this is a normal chest X-ray. However, it is important to consider the patient's clinical history and any other relevant information when interpreting the image.**\n",
       "\n",
       "**Disclaimer:** This is a preliminary interpretation based on a single image. A definitive diagnosis requires a complete clinical evaluation and potentially additional imaging studies.\n"
      ],
      "text/plain": [
       "<IPython.core.display.Markdown object>"
      ]
     },
     "metadata": {},
     "output_type": "display_data"
    }
   ],
   "source": [
    "display(Markdown(output[0][\"generated_text\"][-1][\"content\"]))\n"
   ]
  },
  {
   "cell_type": "code",
   "execution_count": null,
   "id": "9d516fbd",
   "metadata": {},
   "outputs": [],
   "source": []
  }
 ],
 "metadata": {
  "kernelspec": {
   "display_name": "medgemma-env",
   "language": "python",
   "name": "python3"
  },
  "language_info": {
   "codemirror_mode": {
    "name": "ipython",
    "version": 3
   },
   "file_extension": ".py",
   "mimetype": "text/x-python",
   "name": "python",
   "nbconvert_exporter": "python",
   "pygments_lexer": "ipython3",
   "version": "3.11.9"
  }
 },
 "nbformat": 4,
 "nbformat_minor": 5
}
